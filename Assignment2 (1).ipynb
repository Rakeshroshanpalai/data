{
 "cells": [
  {
   "cell_type": "raw",
   "id": "5028c461-6fbf-4d9f-994b-a28d4e4105fa",
   "metadata": {},
   "source": [
    "1)Discuss string slicing and provide examples?"
   ]
  },
  {
   "cell_type": "raw",
   "id": "c9fab7f3-d91f-407a-b0ce-fcaabafe5184",
   "metadata": {},
   "source": [
    ">> String slicing in Python allows you to access a portion (or \"slice\") of a string by specifying a range of indices. The syntax for slicing is:"
   ]
  },
  {
   "cell_type": "code",
   "execution_count": null,
   "id": "099fe3ca-90d5-4561-bb46-70702b10fcf1",
   "metadata": {},
   "outputs": [],
   "source": [
    "string[start:end:step]\n"
   ]
  },
  {
   "cell_type": "raw",
   "id": "c7c9e325-7ff8-4321-9174-880aaa613cea",
   "metadata": {},
   "source": [
    "Where:\n",
    "`start` is the index where the slice starts (inclusive).\n",
    "`end` is the index where the slice ends (exclusive).\n",
    "`step` is the number of steps to take between each index (optional).\n",
    "\n",
    "EXAMPLES\n",
    "i)Basic Slicing:"
   ]
  },
  {
   "cell_type": "code",
   "execution_count": null,
   "id": "66e318bb-801c-4202-9e3b-e0e901902ab7",
   "metadata": {},
   "outputs": [],
   "source": [
    "text = \"Hello, World!\"\n",
    "print(text[0:5])  # Output: Hello\n",
    "\n",
    "# ii)Omitting Start or End:\n",
    "print(text[:5])   # Output: Hello\n",
    "print(text[7:])   # Output: World!\n",
    " \n",
    "# iii)Using Negative Indices:\n",
    "print(text[-6:-1])  # Output: World\n",
    "\n",
    "# iv)Reversing a String:\n",
    "print(text[::-1])  # Output: !dlroW ,olleH"
   ]
  },
  {
   "cell_type": "raw",
   "id": "aae37b48-45bd-4fbc-98dd-d3f286bb905c",
   "metadata": {},
   "source": [
    "Additional Notes:\n",
    "*)Slicing does not modify the original string; it creates a new string.\n",
    "*)If start is greater than end, the slice will be empty.\n",
    "*)If step is 0, Python will raise a ValueError.\n",
    "String slicing is a powerful tool in Python that allows for flexible string manipulation."
   ]
  },
  {
   "cell_type": "raw",
   "id": "1530a798-2677-41f4-8e96-15b583bd675e",
   "metadata": {},
   "source": [
    "2)Explain the key features of lists 0n Python.\n",
    ">> Lists in Python are a versatile and widely used data structure. They are essentially ordered collections that can hold a variety of object types, including other lists. Here are some key features of lists in Python:\n",
    "i. Ordered Collection\n",
    ">> Definition: Lists maintain the order of elements as they are added. This means that the elements are indexed, and each element can be accessed by its position in the list."
   ]
  },
  {
   "cell_type": "code",
   "execution_count": null,
   "id": "53aa19e8-7131-4af1-a3a2-36f7fd8a36b0",
   "metadata": {},
   "outputs": [],
   "source": [
    "fruits = [\"apple\", \"banana\", \"cherry\"]\n",
    "print(fruits[0])  # Output: apple"
   ]
  },
  {
   "cell_type": "raw",
   "id": "78522797-e83c-4917-8393-2c86a50e481d",
   "metadata": {},
   "source": [
    "ii.Mutable\n",
    ">> Definition: Lists are mutable, meaning their elements can be changed after the list is created."
   ]
  },
  {
   "cell_type": "code",
   "execution_count": null,
   "id": "b45199e7-ec20-4be9-a8e3-349b8af11025",
   "metadata": {},
   "outputs": [],
   "source": [
    "fruits[1] = \"blueberry\"\n",
    "print(fruits)  # Output: ['apple', 'blueberry', 'cherry']"
   ]
  },
  {
   "cell_type": "raw",
   "id": "d0994faf-32eb-4a87-b738-1d6db1249c83",
   "metadata": {},
   "source": [
    "iii. Dynamic Size\n",
    ">> Definition: Lists can grow or shrink in size. Elements can be added or removed at any time."
   ]
  },
  {
   "cell_type": "code",
   "execution_count": null,
   "id": "a104ee00-5b6b-4152-9242-7e7b5834338a",
   "metadata": {},
   "outputs": [],
   "source": [
    "fruits.append(\"date\")\n",
    "print(fruits)  # Output: ['apple', 'blueberry', 'cherry', 'date']\n",
    "\n",
    "fruits.pop(1)\n",
    "print(fruits)  # Output: ['apple', 'cherry', 'date']"
   ]
  },
  {
   "cell_type": "raw",
   "id": "6d3abf1e-67d2-4cac-a977-4cad8e5f3114",
   "metadata": {},
   "source": [
    "iv. Can Contain Multiple Data Types\n",
    ">> Definition: A list can contain elements of different data types, including other lists, strings, integers, and even objects."
   ]
  },
  {
   "cell_type": "code",
   "execution_count": null,
   "id": "ff13e8e5-0db4-4fb2-8d96-af6a4b71bd0d",
   "metadata": {},
   "outputs": [],
   "source": [
    "mixed_list = [1, \"hello\", 3.14, [2, 4, 6]]\n",
    "print(mixed_list)  # Output: [1, 'hello', 3.14, [2, 4, 6]]"
   ]
  },
  {
   "cell_type": "raw",
   "id": "50789d3e-8248-4dc8-8044-480b9773cdcd",
   "metadata": {},
   "source": [
    "v. Supports Slicing\n",
    ">> Definition: Like strings, lists support slicing, allowing you to access a range of elements."
   ]
  },
  {
   "cell_type": "code",
   "execution_count": null,
   "id": "bff155d3-1a2f-406a-83ce-c006da7f2387",
   "metadata": {},
   "outputs": [],
   "source": [
    "numbers = [0, 1, 2, 3, 4, 5]\n",
    "print(numbers[1:4])  # Output: [1, 2, 3]"
   ]
  },
  {
   "cell_type": "raw",
   "id": "58f86a96-2f85-4391-a30a-4ba61cb3371f",
   "metadata": {},
   "source": [
    "vi. Built-in Methods\n",
    ">> Definition: Python provides several built-in methods to manipulate lists, such as append(), remove(), pop(), sort(), reverse(), and extend()."
   ]
  },
  {
   "cell_type": "code",
   "execution_count": null,
   "id": "46a1f34a-b523-45aa-a721-cf3e4b846e89",
   "metadata": {},
   "outputs": [],
   "source": [
    "numbers.append(6)       # Adds an element to the end of the list\n",
    "numbers.remove(3)       # Removes the first occurrence of the specified element\n",
    "numbers.sort()          # Sorts the list in ascending order\n",
    "numbers.reverse()       # Reverses the order of elements in the list\n",
    "print(numbers)          # Output: [6, 5, 4, 2, 1, 0]"
   ]
  },
  {
   "cell_type": "raw",
   "id": "4ad42e67-38fa-4b38-a732-98e2f8556685",
   "metadata": {},
   "source": [
    "vii. List Comprehensions\n",
    "Definition: Python supports list comprehensions, a concise way to create lists based on existing lists."
   ]
  },
  {
   "cell_type": "code",
   "execution_count": null,
   "id": "6e36390a-3134-49b0-ae38-80b90c1fd2ac",
   "metadata": {},
   "outputs": [],
   "source": [
    "squares = [x**2 for x in range(5)]\n",
    "print(squares)  # Output: [0, 1, 4, 9, 16]"
   ]
  },
  {
   "cell_type": "raw",
   "id": "0d7b9904-65d4-486a-bdd4-529da21318f3",
   "metadata": {},
   "source": [
    "viii. Heterogeneous and Homogeneous Lists\n",
    ">> Definition: A list can be homogeneous (elements of the same type) or heterogeneous (elements of different types)."
   ]
  },
  {
   "cell_type": "code",
   "execution_count": null,
   "id": "6604198e-03c5-4e3e-814e-1ede2308a552",
   "metadata": {},
   "outputs": [],
   "source": [
    "homogeneous_list = [1, 2, 3, 4, 5]\n",
    "heterogeneous_list = [1, \"two\", 3.0, [4, \"five\"]]\n",
    "print(homogeneous_list)  # Output: [1, 2, 3, 4, 5]\n",
    "print(heterogeneous_list)  # Output: [1, 'two', 3.0, [4, 'five']]\n",
    "\n",
    "#Lists are one of the most powerful and flexible data types in Python, making them indispensable for a wide range of programming tasks."
   ]
  },
  {
   "cell_type": "raw",
   "id": "48f648c2-48ca-47c8-90a3-79aa28e62a6b",
   "metadata": {},
   "source": [
    "3)Describe how to access modify and delete elements in a list with examples.\n",
    ">> In Python, lists are mutable, meaning you can access, modify, and delete their elements. Here's how you can do each of these operations:\n",
    "\n",
    "i. Accessing Elements\n",
    ">> You can access elements in a list using indexing. The index starts at 0 for the first element and goes up by one for each subsequent element. Negative indices start from the end of the list."
   ]
  },
  {
   "cell_type": "code",
   "execution_count": null,
   "id": "16e53798-56c8-4ce5-8e6d-1b4469fa2dc5",
   "metadata": {},
   "outputs": [],
   "source": [
    "#Access by index\n",
    "fruits = [\"apple\", \"banana\", \"cherry\", \"date\"]\n",
    "print(fruits[0])  # Output: apple\n",
    "print(fruits[2])  # Output: cherry \n",
    "\n",
    "#Access with Negative Index:\n",
    "print(fruits[-1])  # Output: date\n",
    "print(fruits[-3])  # Output: banana\n",
    "\n",
    "#Access a Range of Elements (Slicing):\n",
    "print(fruits[1:3])  # Output: ['banana', 'cherry']\n",
    "print(fruits[:2])   # Output: ['apple', 'banana']\n",
    "print(fruits[2:])   # Output: ['cherry', 'date']"
   ]
  },
  {
   "cell_type": "raw",
   "id": "5321acb4-0103-497c-9e44-f613ae64dff3",
   "metadata": {},
   "source": [
    "ii. Modifying Elements\n",
    ">> You can change the value of an element in a list by assigning a new value to a specific index."
   ]
  },
  {
   "cell_type": "code",
   "execution_count": null,
   "id": "4118bad6-289c-42ac-9d48-69bdfda3f4e9",
   "metadata": {},
   "outputs": [],
   "source": [
    "#Modify a Single Element:\n",
    "fruits[1] = \"blueberry\"\n",
    "print(fruits)  # Output: ['apple', 'blueberry', 'cherry', 'date']\n",
    "\n",
    "#Modify a Range of Elements:\n",
    "fruits[1:3] = [\"kiwi\", \"grape\"]\n",
    "print(fruits)  # Output: ['apple', 'kiwi', 'grape', 'date']\n",
    "\n",
    "#Modify with Different Sized Lists:\n",
    "fruits[1:3] = [\"orange\"]\n",
    "print(fruits)  # Output: ['apple', 'orange', 'date']"
   ]
  },
  {
   "cell_type": "raw",
   "id": "c2e845ab-8d31-41de-b843-c09dd7f0a27a",
   "metadata": {},
   "source": [
    "iii. Deleting Elements\n",
    ">> You can remove elements from a list using various methods, depending on whether you want to delete by index, value, or remove a range of elements."
   ]
  },
  {
   "cell_type": "code",
   "execution_count": null,
   "id": "57474e25-4c1b-45c7-8d5f-df97efb39f53",
   "metadata": {},
   "outputs": [],
   "source": [
    "#Delete by Index (del):\n",
    "del fruits[1]\n",
    "print(fruits)  # Output: ['apple', 'cherry', 'date']\n",
    "\n",
    "#Delete a Range of Elements (del with Slicing):\n",
    "del fruits[1:3]\n",
    "print(fruits)  # Output: ['apple']\n",
    "\n",
    "#Remove by Value (remove):\n",
    "fruits = [\"apple\", \"banana\", \"cherry\", \"date\"]\n",
    "fruits.remove(\"banana\")\n",
    "print(fruits)  # Output: ['apple', 'cherry', 'date']\n",
    "\n",
    "#Remove by Index and Return the Element (pop):\n",
    "second_fruit = fruits.pop(1)\n",
    "print(fruits)  # Output: ['apple', 'cherry']\n",
    "print(second_fruit)  # Output: banana\n",
    "\n",
    "#These methods provide flexibility in working with lists, allowing you to manipulate them according to your specific needs."
   ]
  },
  {
   "cell_type": "raw",
   "id": "fe8b610f-25d5-4045-badb-862c406a9a12",
   "metadata": {},
   "source": [
    "4)Compare and contrast tuples and lists with examples.\n",
    ">> Tuples and lists are both built-in data structures in Python that allow you to store collections of items. However, they have distinct characteristics and are used in different scenarios. Here's a comparison of tuples and lists:\n",
    "\n",
    "i. Mutability\n",
    ">> List: Lists are mutable, meaning you can modify, add, or remove elements after the list is created.\n",
    ">> Tuple: Tuples are immutable, meaning once a tuple is created, it cannot be modified—elements cannot be added, removed, or changed."
   ]
  },
  {
   "cell_type": "code",
   "execution_count": null,
   "id": "a0f6f536-4d78-43bf-ae89-32d68b3ae11d",
   "metadata": {},
   "outputs": [],
   "source": [
    "# List (mutable)\n",
    "fruits = [\"apple\", \"banana\", \"cherry\"]\n",
    "fruits[1] = \"blueberry\"  # Modifying the list\n",
    "print(fruits)  # Output: ['apple', 'blueberry', 'cherry']\n",
    "\n",
    "# Tuple (immutable)\n",
    "fruits_tuple = (\"apple\", \"banana\", \"cherry\")\n",
    "fruits_tuple[1] = \"blueberry\"  # This will raise a TypeError"
   ]
  },
  {
   "cell_type": "raw",
   "id": "5f84c874-b7a6-47ee-8d6c-ffa40a61a4eb",
   "metadata": {},
   "source": [
    "ii. Syntax\n",
    ">> List: Lists are defined using square brackets [].\n",
    ">> Tuple: Tuples are defined using parentheses ()."
   ]
  },
  {
   "cell_type": "code",
   "execution_count": null,
   "id": "cb19d2f8-fcb0-4f69-9c5c-5e6cbe50d2bd",
   "metadata": {},
   "outputs": [],
   "source": [
    "fruits_list = [\"apple\", \"banana\", \"cherry\"]\n",
    "fruits_tuple = (\"apple\", \"banana\", \"cherry\")"
   ]
  },
  {
   "cell_type": "raw",
   "id": "4d24a124-eef8-4693-93ac-708c31ee6428",
   "metadata": {},
   "source": [
    "iii. Performance\n",
    ">> List: Lists have a bit more overhead because of their mutability. This can make them slightly slower than tuples, especially when working with a large number of elements.\n",
    ">> Tuple: Tuples are generally faster than lists because of their immutability and lower overhead."
   ]
  },
  {
   "cell_type": "code",
   "execution_count": null,
   "id": "33ad008c-a876-4e9d-b11b-20c252136b51",
   "metadata": {},
   "outputs": [],
   "source": [
    "import timeit\n",
    "\n",
    "list_time = timeit.timeit(stmt=\"[1, 2, 3, 4, 5]\", number=1000000)\n",
    "tuple_time = timeit.timeit(stmt=\"(1, 2, 3, 4, 5)\", number=1000000)\n",
    "\n",
    "print(\"List time:\", list_time)\n",
    "print(\"Tuple time:\", tuple_time)"
   ]
  },
  {
   "cell_type": "raw",
   "id": "d07c9e04-62e7-44a5-aa14-8029ca4e38f3",
   "metadata": {},
   "source": [
    "iv. Use Cases\n",
    ">> List: Use lists when you need a collection that can change over time—e.g., when you need to append, modify, or remove elements.\n",
    ">> Tuple: Use tuples when you want a collection of items that should not change, such as storing a fixed set of values (e.g., coordinates, constant configurations)."
   ]
  },
  {
   "cell_type": "code",
   "execution_count": null,
   "id": "e1bcdb6b-6312-4d9f-a7c8-b9fd1416b48b",
   "metadata": {},
   "outputs": [],
   "source": [
    "# List example: Shopping cart (can change over time)\n",
    "shopping_cart = [\"milk\", \"bread\", \"eggs\"]\n",
    "shopping_cart.append(\"butter\")  # Adding an item to the cart\n",
    "print(shopping_cart)  # Output: ['milk', 'bread', 'eggs', 'butter']\n",
    "\n",
    "# Tuple example: Storing GPS coordinates (fixed)\n",
    "coordinates = (40.7128, -74.0060)  # Latitude and longitude for New York City"
   ]
  },
  {
   "cell_type": "raw",
   "id": "54164bc7-a644-44e5-85ff-b553f3daf1f7",
   "metadata": {},
   "source": [
    "v. Immutability Implications\n",
    ">> List: Since lists are mutable, they can be changed after creation, which can be useful but also risky if unintended modifications are made.\n",
    ">> Tuple: Since tuples are immutable, they are hashable and can be used as keys in dictionaries, whereas lists cannot."
   ]
  },
  {
   "cell_type": "code",
   "execution_count": null,
   "id": "601cd39b-a620-4852-9fde-e3b2a283e73a",
   "metadata": {},
   "outputs": [],
   "source": [
    "# Tuple as dictionary key\n",
    "locations = {\n",
    "    (40.7128, -74.0060): \"New York City\",\n",
    "    (34.0522, -118.2437): \"Los Angeles\"\n",
    "}\n",
    "print(locations[(40.7128, -74.0060)])  # Output: New York City"
   ]
  },
  {
   "cell_type": "raw",
   "id": "152ec72e-eca3-4be3-a31d-6246684c2abd",
   "metadata": {},
   "source": [
    "5)Describe the key features of sets and provide examples of their use.\n",
    ">> Sets in Python are an unordered collection of unique elements. They are useful for situations where you need to store a group of items but do not want duplicates. Sets provide various operations that are commonly associated with mathematical sets, such as union, intersection, and difference. Here are the key features of sets, along with examples:\n",
    "\n",
    "i. Unordered Collection\n",
    ">> Definition: Sets do not maintain any specific order. The elements in a set do not have a defined position or index."
   ]
  },
  {
   "cell_type": "code",
   "execution_count": null,
   "id": "11799f34-681f-4ba5-b751-b55315ea6d66",
   "metadata": {},
   "outputs": [],
   "source": [
    "my_set = {3, 1, 4, 1, 5, 9}\n",
    "print(my_set)  # Output: {1, 3, 4, 5, 9} (order may vary)"
   ]
  },
  {
   "cell_type": "raw",
   "id": "252d54cd-cb78-4c7e-ad8e-f6e1981fac87",
   "metadata": {},
   "source": [
    "ii. Unique Elements\n",
    ">> Definition: Sets automatically remove duplicate elements. Each element in a set is unique."
   ]
  },
  {
   "cell_type": "code",
   "execution_count": null,
   "id": "b916b6ee-1deb-4f84-9447-da8eacbe4bb6",
   "metadata": {},
   "outputs": [],
   "source": [
    "my_set = {1, 2, 3, 3, 4, 4, 5}\n",
    "print(my_set)  # Output: {1, 2, 3, 4, 5}"
   ]
  },
  {
   "cell_type": "raw",
   "id": "1a29ab5b-8c0d-4a1b-92b5-15bf59b0ec04",
   "metadata": {},
   "source": [
    "iii. Mutable\n",
    ">> Definition: Sets are mutable, meaning you can add or remove elements after the set is created. However, the elements themselves must be immutable (e.g., numbers, strings, tuples)."
   ]
  },
  {
   "cell_type": "code",
   "execution_count": null,
   "id": "ab010102-7702-479f-b684-c2691b00902f",
   "metadata": {},
   "outputs": [],
   "source": [
    "my_set = {1, 2, 3}\n",
    "my_set.add(4)\n",
    "print(my_set)  # Output: {1, 2, 3, 4}"
   ]
  },
  {
   "cell_type": "raw",
   "id": "d3952e93-83de-417e-8437-b8c60514d037",
   "metadata": {},
   "source": [
    "iv. No Duplicates\n",
    ">> Definition: Any attempt to add an existing element to a set will not change the set."
   ]
  },
  {
   "cell_type": "code",
   "execution_count": null,
   "id": "8e90c41a-be09-47eb-ba10-13f2e06775e1",
   "metadata": {},
   "outputs": [],
   "source": [
    "my_set = {1, 2, 3}\n",
    "my_set.add(3)\n",
    "print(my_set)  # Output: {1, 2, 3}"
   ]
  },
  {
   "cell_type": "raw",
   "id": "a74b03ab-46ea-477b-a810-14c6ae8e959a",
   "metadata": {},
   "source": [
    "v. Set Operations\n",
    ">> Definition: Sets support various mathematical operations such as union, intersection, difference, and symmetric difference."
   ]
  },
  {
   "cell_type": "code",
   "execution_count": null,
   "id": "8d4f5fbc-4002-4cfd-ac73-b0a7a0b4d294",
   "metadata": {},
   "outputs": [],
   "source": [
    "#Union: Combines elements from both sets.\n",
    "set1 = {1, 2, 3}\n",
    "set2 = {3, 4, 5}\n",
    "union_set = set1 | set2\n",
    "print(union_set)  # Output: {1, 2, 3, 4, 5}\n",
    "\n",
    "#Intersection: Returns elements common to both sets.\n",
    "intersection_set = set1 & set2\n",
    "print(intersection_set)  # Output: {3}\n",
    "\n",
    "#Difference: Returns elements in the first set but not in the second.\n",
    "difference_set = set1 - set2\n",
    "print(difference_set)  # Output: {1, 2}\n",
    "\n",
    "#Symmetric Difference: Returns elements in either set, but not in both.\n",
    "symmetric_difference_set = set1 ^ set2\n",
    "print(symmetric_difference_set)  # Output: {1, 2, 4, 5}"
   ]
  },
  {
   "cell_type": "raw",
   "id": "3355e8fe-db66-4d30-b7cd-d084e1b6a46b",
   "metadata": {},
   "source": [
    "vi. Set Comprehensions\n",
    ">> Definition: Like list comprehensions, Python supports set comprehensions, allowing for the creation of sets based on existing iterables."
   ]
  },
  {
   "cell_type": "code",
   "execution_count": null,
   "id": "6bed7466-a21a-4b3d-b4d8-b9462e4c0743",
   "metadata": {},
   "outputs": [],
   "source": [
    "my_set = {x**2 for x in range(5)}\n",
    "print(my_set)  # Output: {0, 1, 4, 9, 16}"
   ]
  },
  {
   "cell_type": "raw",
   "id": "3db2f903-cca9-4a31-98d6-e3842bcc0b6d",
   "metadata": {},
   "source": [
    "6)Discuss the use cases of tuples and sets in Python programming.\n",
    ">> Tuples and sets in Python serve different purposes and are suited for various use cases depending on the requirements of the task at hand. Here's a discussion of their primary use cases:\n",
    "\n",
    "Use Cases of Tuples\n",
    "i)Immutable Collections\n",
    ">> Definition: Tuples are immutable, meaning they cannot be altered after creation. This makes them ideal for storing data that should not change throughout the program.\n",
    ">> Use Case: Storing coordinates, dates, or fixed configuration settings."
   ]
  },
  {
   "cell_type": "code",
   "execution_count": null,
   "id": "95bc66ed-c468-4082-9cb1-a5dd4a2cdf38",
   "metadata": {},
   "outputs": [],
   "source": [
    "coordinates = (40.7128, -74.0060)  # Latitude and longitude for NYC\n",
    "date_of_birth = (1985, 5, 15)  # Year, month, day"
   ]
  },
  {
   "cell_type": "raw",
   "id": "3aebe511-91c4-4df0-a881-86836262ecc2",
   "metadata": {},
   "source": [
    "ii)Returning Multiple Values from Functions\n",
    ">> Definition: Tuples allow functions to return multiple values in a simple, unpackable form.\n",
    ">> Use Case: Returning multiple results from a function without needing to use a class or a more complex data structure."
   ]
  },
  {
   "cell_type": "code",
   "execution_count": null,
   "id": "b7d031f5-d668-4c8e-81a3-79fc8a283192",
   "metadata": {},
   "outputs": [],
   "source": [
    "def divide_and_remainder(a, b):\n",
    "    quotient = a // b\n",
    "    remainder = a % b\n",
    "    return quotient, remainder\n",
    "\n",
    "q, r = divide_and_remainder(10, 3)\n",
    "print(q)  # Output: 3\n",
    "print(r)  # Output: 1"
   ]
  },
  {
   "cell_type": "raw",
   "id": "81649e07-e600-4253-bd9f-e5034072c124",
   "metadata": {},
   "source": [
    "iii)Immutable Grouping\n",
    ">> Definition: Tuples can group related data together into a single entity, particularly when you want to ensure that the grouping remains unchanged.\n",
    ">> Use Case: Grouping data in a way that each group is a fixed set of elements."
   ]
  },
  {
   "cell_type": "code",
   "execution_count": null,
   "id": "f87c4f64-ccc3-4af4-9b81-9d44baac426f",
   "metadata": {},
   "outputs": [],
   "source": [
    "person = (\"John\", \"Doe\", 30)  # First name, last name, age"
   ]
  },
  {
   "cell_type": "raw",
   "id": "fa098815-9f74-46de-9713-9e5eb2594f13",
   "metadata": {},
   "source": [
    "iv)Dictionary Keys\n",
    ">> Definition: Since tuples are immutable and hashable, they can be used as keys in dictionaries, unlike lists.\n",
    ">> Use Case: Using compound keys in dictionaries."
   ]
  },
  {
   "cell_type": "code",
   "execution_count": null,
   "id": "2b6f2ff8-bbc5-4492-bf4d-8ea5aa845c4a",
   "metadata": {},
   "outputs": [],
   "source": [
    "location_data = {\n",
    "    (40.7128, -74.0060): \"New York City\",\n",
    "    (34.0522, -118.2437): \"Los Angeles\"\n",
    "}"
   ]
  },
  {
   "cell_type": "raw",
   "id": "f005a823-8608-4c97-87c0-0aa2241b90cd",
   "metadata": {},
   "source": [
    "Use Cases of Sets\n",
    "i)Eliminating Duplicates\n",
    ">> Definition: Sets automatically remove duplicate elements, making them ideal for situations where uniqueness is required.\n",
    ">> Use Case: Removing duplicate values from a list or any iterable."
   ]
  },
  {
   "cell_type": "code",
   "execution_count": null,
   "id": "863a2e59-d113-40aa-a60c-64e890d8a23e",
   "metadata": {},
   "outputs": [],
   "source": [
    "items = [1, 2, 2, 3, 4, 4, 5]\n",
    "unique_items = set(items)\n",
    "print(unique_items)  # Output: {1, 2, 3, 4, 5}"
   ]
  },
  {
   "cell_type": "code",
   "execution_count": null,
   "id": "eeb92e80-60a3-49ca-9134-7290eb24167d",
   "metadata": {},
   "outputs": [],
   "source": [
    "ii)Membership Testing\n",
    ">> Definition: Sets provide a highly efficient way to check for the presence of an element, thanks to their underlying hash table implementation.\n",
    ">> Use Case: Checking if an item exists in a large collection."
   ]
  },
  {
   "cell_type": "code",
   "execution_count": null,
   "id": "792c0913-1aa2-4d7d-a55f-6a7ab243c869",
   "metadata": {},
   "outputs": [],
   "source": [
    "allowed_users = {\"alice\", \"bob\", \"charlie\"}\n",
    "if \"david\" in allowed_users:\n",
    "    print(\"Access granted\")\n",
    "else:\n",
    "    print(\"Access denied\")"
   ]
  },
  {
   "cell_type": "raw",
   "id": "61d62b05-56f2-47e5-a1c0-a39f355bf82c",
   "metadata": {},
   "source": [
    "iii)Mathematical Set Operations\n",
    ">> Definition: Sets are ideal for performing mathematical operations like union, intersection, difference, and symmetric difference.\n",
    ">> Use Case: Finding common elements between two collections, unique elements, etc."
   ]
  },
  {
   "cell_type": "code",
   "execution_count": null,
   "id": "88ffb4fb-0d5d-4329-9a67-97e7f5ccc7df",
   "metadata": {},
   "outputs": [],
   "source": [
    "set_A = {1, 2, 3, 4}\n",
    "set_B = {3, 4, 5, 6}\n",
    "\n",
    "# Intersection\n",
    "common_elements = set_A & set_B\n",
    "print(common_elements)  # Output: {3, 4}\n",
    "\n",
    "# Union\n",
    "all_elements = set_A | set_B\n",
    "print(all_elements)  # Output: {1, 2, 3, 4, 5, 6}\n",
    "\n",
    "# Difference\n",
    "unique_to_A = set_A - set_B\n",
    "print(unique_to_A)  # Output: {1, 2}"
   ]
  },
  {
   "cell_type": "raw",
   "id": "b2c06252-c005-413e-81af-45468e918892",
   "metadata": {},
   "source": [
    "Summary\n",
    ">> Tuples: Best used when you need a collection of items that should not change (immutability), or when you want to group related data together, particularly when returning multiple values from a function or using as dictionary keys.\n",
    "\n",
    ">> Sets: Ideal for situations requiring unique elements, efficient membership testing, and performing set operations like union and intersection. Sets are also useful for quickly eliminating duplicates and handling large datasets where unique values are critical."
   ]
  },
  {
   "cell_type": "raw",
   "id": "f1cd6273-1df6-4871-b23e-5033cad60dc1",
   "metadata": {},
   "source": [
    "7)Describe how to add modify and delete items in a dictionary with examples.\n",
    ">> In Python, dictionaries are mutable, which means you can add, modify, and delete items after the dictionary is created. Here's how you can perform each of these operations with examples:\n",
    "i. Adding Items to a Dictionary\n",
    "Adding a New Key-Value Pair: You can add a new item to a dictionary by assigning a value to a new key."
   ]
  },
  {
   "cell_type": "code",
   "execution_count": null,
   "id": "7c28556a-c8c8-4e0a-be71-9cd0e5845df6",
   "metadata": {},
   "outputs": [],
   "source": [
    "my_dict = {\"name\": \"Alice\", \"age\": 25}\n",
    "my_dict[\"city\"] = \"New York\"  # Adding a new key-value pair\n",
    "print(my_dict)  # Output: {'name': 'Alice', 'age': 25, 'city': 'New York'}"
   ]
  },
  {
   "cell_type": "code",
   "execution_count": null,
   "id": "dc8953ac-3797-4b40-a414-c721e63f7a6b",
   "metadata": {},
   "outputs": [],
   "source": [
    "#Updating Multiple Key-Value Pairs: You can add multiple items at once using the update() method.\n",
    "my_dict.update({\"country\": \"USA\", \"occupation\": \"Engineer\"})\n",
    "print(my_dict)  # Output: {'name': 'Alice', 'age': 25, 'city': 'New York', 'country': 'USA', 'occupation': 'Engineer'}"
   ]
  },
  {
   "cell_type": "raw",
   "id": "1ff171e9-ec02-4de6-955c-f2d3e819fabe",
   "metadata": {},
   "source": [
    "ii. Modifying Items in a Dictionary\n",
    ">> Modifying an Existing Key-Value Pair: You can modify the value associated with an existing key by reassigning it."
   ]
  },
  {
   "cell_type": "code",
   "execution_count": null,
   "id": "980f958a-8463-432c-b054-960405b2a0ba",
   "metadata": {},
   "outputs": [],
   "source": [
    "my_dict[\"age\"] = 26  # Modifying the value of an existing key\n",
    "print(my_dict)  # Output: {'name': 'Alice', 'age': 26, 'city': 'New York', 'country': 'USA', 'occupation': 'Engineer'}"
   ]
  },
  {
   "cell_type": "code",
   "execution_count": null,
   "id": "186796e0-0d9c-4dfa-b582-0f0718a0da26",
   "metadata": {},
   "outputs": [],
   "source": [
    "#Using the update() Method: The update() method can also be used to modify multiple key-value pairs at once.\n",
    "my_dict.update({\"age\": 27, \"city\": \"San Francisco\"})\n",
    "print(my_dict)  # Output: {'name': 'Alice', 'age': 27, 'city': 'San Francisco', 'country': 'USA', 'occupation': 'Engineer'}"
   ]
  },
  {
   "cell_type": "raw",
   "id": "f319e838-0049-4b51-86c0-731d69ec7cc8",
   "metadata": {},
   "source": [
    "iii. Deleting Items from a Dictionary\n",
    ">>Using the del Statement: The del statement removes a key-value pair from the dictionary."
   ]
  },
  {
   "cell_type": "code",
   "execution_count": null,
   "id": "adf1b06a-d4d1-4024-acd8-313701fc0193",
   "metadata": {},
   "outputs": [],
   "source": [
    "del my_dict[\"occupation\"]  # Deleting a key-value pair\n",
    "print(my_dict)  # Output: {'name': 'Alice', 'age': 27, 'city': 'San Francisco', 'country': 'USA'}"
   ]
  },
  {
   "cell_type": "code",
   "execution_count": null,
   "id": "a9911643-84f6-4a3f-92a8-17b6c9259d65",
   "metadata": {},
   "outputs": [],
   "source": [
    "#Using the pop() Method: The pop() method removes a key-value pair and returns the value associated with the key."
   ]
  },
  {
   "cell_type": "code",
   "execution_count": null,
   "id": "22d87ea1-a3ea-4cde-9ffc-b1320b8acdc4",
   "metadata": {},
   "outputs": [],
   "source": [
    "age = my_dict.pop(\"age\")  # Removing the key \"age\" and returning its value\n",
    "print(age)  # Output: 27\n",
    "print(my_dict)  # Output: {'name': 'Alice', 'city': 'San Francisco', 'country': 'USA'}"
   ]
  },
  {
   "cell_type": "raw",
   "id": "176540d5-a8b5-405a-8a71-c515b7036a3a",
   "metadata": {},
   "source": [
    "Summary of Methods\n",
    "*)Adding:\n",
    "my_dict[key] = value: Adds a new key-value pair.\n",
    "my_dict.update({\"key\": \"value\"}): Adds or updates multiple key-value pairs.\n",
    "**)Modifying:\n",
    "my_dict[key] = new_value: Modifies the value of an existing key.\n",
    "my_dict.update({\"key\": \"new_value\"}): Modifies multiple key-value pairs.\n",
    "***)Deleting:\n",
    "del my_dict[key]: Removes a specific key-value pair.\n",
    "my_dict.pop(key): Removes and returns the value of a specific key.\n",
    "my_dict.popitem(): Removes and returns the last inserted key-value pair.\n",
    "my_dict.clear(): Removes all items from the dictionary.\n",
    "These operations allow you to efficiently manage the contents of a dictionary, making dictionaries a flexible and powerful data structure in Pytho"
   ]
  },
  {
   "cell_type": "raw",
   "id": "dc3a171d-342b-430d-8c64-d24ca7d19bbd",
   "metadata": {},
   "source": [
    "8)Discuss the importance of dictionary keys being immutable and provide examples.\n",
    "In Python, dictionary keys must be immutable, which is crucial for ensuring that the dictionary remains consistent, efficient, and reliable. Here’s a detailed discussion on why this immutability is important, along with examples:\n",
    "\n",
    "i. Importance of Immutability in Dictionary Keys\n",
    "a. Hashability\n",
    ">> Definition: Dictionary keys must be hashable, meaning that the key must have a hash value that remains constant during its lifetime. Immutable objects like strings, numbers, and tuples are hashable, while mutable objects like lists, sets, and dictionaries are not.\n",
    ">> Importance: Hashability is critical because Python dictionaries use a hash table to store key-value pairs. The hash value is used to quickly locate the key in the dictionary. If the key were mutable and its value changed, the hash value would also change, making it impossible to locate the key in the dictionary."
   ]
  },
  {
   "cell_type": "code",
   "execution_count": null,
   "id": "6cfb72d6-7f62-4a81-9e60-c52f1b5906df",
   "metadata": {},
   "outputs": [],
   "source": [
    "# Immutable keys\n",
    "my_dict = {42: \"Answer\", (1, 2): \"Tuple Key\", \"name\": \"Alice\"\n",
    "\n",
    "# Attempting to use a mutable key (will raise TypeError)\n",
    "# my_dict[[1, 2, 3]] = \"List Key\"  # TypeError: unhashable type: 'list'"
   ]
  },
  {
   "cell_type": "raw",
   "id": "294e70ad-39d2-4bb4-81ea-c9d19a183bb0",
   "metadata": {},
   "source": [
    "b. Dictionary Integrity\n",
    ">> Definition: If dictionary keys were mutable, changing a key after it has been added to a dictionary would make it difficult or impossible to retrieve the associated value.\n",
    ">> Importance: Ensuring that keys are immutable maintains the integrity and consistency of the dictionary. It prevents unexpected behavior or errors that could arise if keys were allowed to change."
   ]
  },
  {
   "cell_type": "code",
   "execution_count": null,
   "id": "1a7e6697-0aa4-46bf-8f03-3f78f8cb64e6",
   "metadata": {},
   "outputs": [],
   "source": [
    "# Immutable keys maintain dictionary integrity\n",
    "immutable_key = (1, 2, 3)\n",
    "my_dict = {immutable_key: \"Value\"}\n",
    "\n",
    "# Even if we try to modify the key, it won't affect the dictionary\n",
    "# Because tuples are immutable, this would raise an error:\n",
    "# immutable_key[0] = 10  # TypeError: 'tuple' object does not support item assignment\n",
    "\n",
    "print(my_dict[immutable_key])  # Output: Value"
   ]
  },
  {
   "cell_type": "raw",
   "id": "aa650dbb-f86a-4f1d-ad81-498bc277c96f",
   "metadata": {},
   "source": [
    "c. Performance Efficiency\n",
    ">> Definition: The performance of dictionary operations (e.g., lookups, insertions, deletions) relies on the hash table's ability to efficiently locate keys. Immutable keys ensure that the dictionary's underlying hash table remains efficient and performant.\n",
    ">> Importance: Using immutable keys prevents the need for the dictionary to constantly recalculate hash values, which would slow down operations and degrade performance."
   ]
  },
  {
   "cell_type": "code",
   "execution_count": null,
   "id": "3c678105-9cf6-426e-b51c-363da9bb53b4",
   "metadata": {},
   "outputs": [],
   "source": [
    "# Efficient dictionary operations with immutable keys\n",
    "student_grades = {\"Alice\": \"A\", \"Bob\": \"B\", \"Charlie\": \"C\"}\n",
    "\n",
    "# Retrieving a value is fast because \"Alice\" is an immutable string with a constant hash value\n",
    "grade = student_grades[\"Alice\"]  # Output: A"
   ]
  },
  {
   "cell_type": "raw",
   "id": "bc7a4859-ef73-4a21-b912-46109b4f0366",
   "metadata": {},
   "source": [
    "ii. Common Immutable Data Types Used as Dictionary Keys"
   ]
  },
  {
   "cell_type": "code",
   "execution_count": null,
   "id": "61e43d45-de1c-4b37-8bf7-187fa82c5005",
   "metadata": {},
   "outputs": [],
   "source": [
    "#Strings: Strings are one of the most common dictionary keys due to their immutability.\n",
    "phone_book = {\"Alice\": \"123-456-7890\", \"Bob\": \"987-654-3210\"}\n",
    "#Numbers: Integers and floating-point numbers are also commonly used as dictionary keys.\n",
    "squares = {1: 1, 2: 4, 3: 9}\n",
    "#Tuples: Tuples can be used as keys if they contain only immutable elements. This is particularly useful when you need a compound key.\n",
    "locations = {(40.7128, -74.0060): \"New York\", (34.0522, -118.2437): \"Los Angeles\"}"
   ]
  },
  {
   "cell_type": "raw",
   "id": "0b910c03-443e-4280-9c0a-44418365c66e",
   "metadata": {},
   "source": [
    "iii. Consequences of Using Mutable Keys\n",
    ">> Unpredictable Behavior: Using a mutable key (e.g., a list) would cause a TypeError when you try to add it to a dictionary because Python cannot guarantee that the key's hash value will remain constant.\n",
    ">> Difficulty in Retrieval: Even if mutable keys were allowed, changing the key after insertion would make it difficult or impossible to retrieve the associated value."
   ]
  },
  {
   "cell_type": "code",
   "execution_count": null,
   "id": "a31fdcf0-5c3d-4b5c-865f-72c275de5181",
   "metadata": {},
   "outputs": [],
   "source": [
    "# Attempting to use a list as a dictionary key will fail\n",
    "# key = [1, 2, 3]\n",
    "# my_dict = {key: \"List Key\"}  # TypeError: unhashable type: 'list'"
   ]
  },
  {
   "cell_type": "raw",
   "id": "970c607c-f476-48bf-913e-85665bf8c3ad",
   "metadata": {},
   "source": [
    "Summary\n",
    ">> Why Immutability Matters: Dictionary keys need to be immutable to ensure that they have a consistent hash value, which is essential for efficient data retrieval and maintaining the integrity of the dictionary.\n",
    ">> Common Immutable Keys: Strings, numbers, and tuples are commonly used as dictionary keys because they are immutable.\n",
    "Consequences of Mutable Keys: Using mutable objects like lists or dictionaries as keys would lead to errors and unpredictable behavior, making it essential to stick to immutable types for dictionary keys.\n",
    ">> By ensuring that dictionary keys are immutable, Python dictionaries remain efficient, reliable, and predictable."
   ]
  }
 ],
 "metadata": {
  "kernelspec": {
   "display_name": "Python 3 (ipykernel)",
   "language": "python",
   "name": "python3"
  },
  "language_info": {
   "codemirror_mode": {
    "name": "ipython",
    "version": 3
   },
   "file_extension": ".py",
   "mimetype": "text/x-python",
   "name": "python",
   "nbconvert_exporter": "python",
   "pygments_lexer": "ipython3",
   "version": "3.10.8"
  }
 },
 "nbformat": 4,
 "nbformat_minor": 5
}
